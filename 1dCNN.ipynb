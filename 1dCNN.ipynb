{
  "cells": [
    {
      "cell_type": "code",
      "execution_count": null,
      "metadata": {
        "colab": {
          "base_uri": "https://localhost:8080/",
          "height": 311
        },
        "id": "3TmGDX2k--JF",
        "outputId": "8a2e7520-f1ad-420a-bdb3-ed85300c2632"
      },
      "outputs": [],
      "source": [
        "from google.colab import drive\n",
        "drive.mount('/content/drive')"
      ]
    },
    {
      "cell_type": "code",
      "execution_count": null,
      "metadata": {
        "id": "DgDFv_mM_Q5B"
      },
      "outputs": [],
      "source": [
        "import matplotlib.pyplot as plt\n",
        "import pandas as pd"
      ]
    },
    {
      "cell_type": "code",
      "execution_count": null,
      "metadata": {
        "colab": {
          "base_uri": "https://localhost:8080/",
          "height": 347
        },
        "id": "diyHEDtX_Tdr",
        "outputId": "fc5fea6a-381f-4d07-c74f-b22869a18856"
      },
      "outputs": [],
      "source": [
        "df_train = pd.read_csv(\"train_18_10000.csv\")\n",
        "df_val = pd.read_csv(\"val_18_10000.csv\")\n",
        "df_test = pd.read_csv(\"test_18_10000.csv\")"
      ]
    },
    {
      "cell_type": "code",
      "execution_count": null,
      "metadata": {
        "id": "CjXAVBR-_iH7"
      },
      "outputs": [],
      "source": [
        "import pandas as pd\n",
        "import numpy as np\n",
        "import os\n",
        "import tensorflow as tf"
      ]
    },
    {
      "cell_type": "code",
      "execution_count": null,
      "metadata": {
        "id": "Jjh-gVOu_pSC"
      },
      "outputs": [],
      "source": [
        "from tensorflow import keras"
      ]
    },
    {
      "cell_type": "code",
      "execution_count": null,
      "metadata": {
        "colab": {
          "base_uri": "https://localhost:8080/"
        },
        "id": "l-ojWZotIMUO",
        "outputId": "46f78f15-906f-4b62-b945-002af1eee842"
      },
      "outputs": [
        {
          "name": "stdout",
          "output_type": "stream",
          "text": [
            "Num GPUs Available:  1\n"
          ]
        }
      ],
      "source": [
        "print(\"Num GPUs Available: \", len(tf.config.experimental.list_physical_devices('GPU')))"
      ]
    },
    {
      "cell_type": "markdown",
      "metadata": {
        "id": "OrTYXShZFSEH"
      },
      "source": []
    },
    {
      "cell_type": "code",
      "execution_count": null,
      "metadata": {
        "colab": {
          "base_uri": "https://localhost:8080/",
          "height": 180
        },
        "id": "qgWb4tGhDAcL",
        "outputId": "d19ad5eb-5d1b-49a9-ec58-d02553d51545"
      },
      "outputs": [],
      "source": [
        "df_train_1d=np.array(df_train.drop(\"label\", axis=1)).reshape(df_train.shape[0],df_train.shape[1]-1,1)\n",
        "df_test_1d=np.array(df_test.drop(\"label\", axis=1)).reshape(df_test.shape[0],df_test.shape[1]-1,1)\n",
        "df_val_1d=np.array(df_val.drop(\"label\", axis=1)).reshape(df_val.shape[0],df_val.shape[1]-1,1)"
      ]
    },
    {
      "cell_type": "code",
      "execution_count": null,
      "metadata": {
        "colab": {
          "base_uri": "https://localhost:8080/"
        },
        "id": "3GMDVCg2Gvew",
        "outputId": "373754e0-a415-4049-85c1-9293410cad93"
      },
      "outputs": [],
      "source": [
        "from keras.utils import to_categorical\n",
        "from sklearn.preprocessing import LabelEncoder\n",
        "\n",
        "label_encoder = LabelEncoder()\n",
        "\n",
        "df_train['label_encoded'] = label_encoder.fit_transform(df_train['label'])\n",
        "df_val['label_encoded'] = label_encoder.transform(df_val['label'])\n",
        "df_test['label_encoded'] = label_encoder.transform(df_test['label'])\n",
        "\n",
        "# One-hot encode the integer labels\n",
        "y_train = to_categorical(df_train['label_encoded'])\n",
        "y_val = to_categorical(df_val['label_encoded'])\n",
        "y_test = to_categorical(df_test['label_encoded'])\n",
        "\n",
        "# Verify the transformation\n",
        "print(\"Original labels:\", df_train['label'].unique())\n",
        "print(\"Encoded labels:\", df_train['label_encoded'].unique())\n",
        "print(\"One-hot encoded shape:\", y_train.shape)\n",
        "\n",
        "num_classes = len(df_train['label'].unique())"
      ]
    },
    {
      "cell_type": "code",
      "execution_count": null,
      "metadata": {
        "colab": {
          "base_uri": "https://localhost:8080/",
          "height": 216
        },
        "id": "ZdMZqjqyHHGZ",
        "outputId": "adb29efe-6572-4fc5-f7d5-e26f0de7e755"
      },
      "outputs": [],
      "source": [
        "from tensorflow.keras.layers import Conv1D, MaxPooling1D, Flatten, Dense\n",
        "from tensorflow.keras.models import Sequential\n",
        "\n",
        "model = Sequential()\n",
        "\n",
        "# Add model layers\n",
        "model.add(Conv1D(64, kernel_size=3, activation='relu', input_shape=(df_train_1d.shape[1], 1)))\n",
        "model.add(Conv1D(32, kernel_size=3, activation='relu'))\n",
        "model.add(Flatten())\n",
        "model.add(Dense(num_classes, activation='softmax'))\n"
      ]
    },
    {
      "cell_type": "code",
      "execution_count": null,
      "metadata": {
        "id": "-MY7BqZ5Hs3N"
      },
      "outputs": [],
      "source": [
        "model.compile(optimizer='adam', loss='binary_crossentropy', metrics=['accuracy'])"
      ]
    },
    {
      "cell_type": "code",
      "execution_count": null,
      "metadata": {
        "colab": {
          "base_uri": "https://localhost:8080/",
          "height": 216
        },
        "id": "Q9YFtrcuHxGj",
        "outputId": "bc3ca300-620c-4cbb-f04f-1f67b869badb"
      },
      "outputs": [],
      "source": [
        "import time\n",
        "start_time = time.time()\n",
        "model.fit(df_train_1d, y_train, validation_data=(df_val_1d, y_val), epochs=10)\n",
        "cnn_training_time = time.time() - start_time\n",
        "print(f\"CNN training time: {cnn_training_time:.2f} seconds\")"
      ]
    },
    {
      "cell_type": "code",
      "execution_count": null,
      "metadata": {
        "colab": {
          "base_uri": "https://localhost:8080/"
        },
        "id": "8-b7OVyMJObO",
        "outputId": "84e30475-0ba1-4edd-b327-5395596f64c9"
      },
      "outputs": [
        {
          "name": "stdout",
          "output_type": "stream",
          "text": [
            "591/591 [==============================] - 2s 2ms/step - loss: 0.1047 - accuracy: 0.8653\n"
          ]
        },
        {
          "data": {
            "text/plain": [
              "[0.10469944775104523, 0.8652613759040833]"
            ]
          },
          "execution_count": 15,
          "metadata": {},
          "output_type": "execute_result"
        }
      ],
      "source": [
        "model.evaluate(df_test_1d, y_test)"
      ]
    }
  ],
  "metadata": {
    "accelerator": "GPU",
    "colab": {
      "gpuType": "L4",
      "machine_shape": "hm",
      "provenance": []
    },
    "kernelspec": {
      "display_name": "Python 3",
      "name": "python3"
    },
    "language_info": {
      "name": "python"
    }
  },
  "nbformat": 4,
  "nbformat_minor": 0
}
