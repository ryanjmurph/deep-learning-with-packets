{
  "cells": [
    {
      "cell_type": "code",
      "execution_count": null,
      "metadata": {
        "colab": {
          "base_uri": "https://localhost:8080/"
        },
        "id": "SbtVHFlhEAWv",
        "outputId": "0bd3c012-f087-43f5-d218-77723f5881e4"
      },
      "outputs": [
        {
          "name": "stdout",
          "output_type": "stream",
          "text": [
            "Mounted at /content/drive\n"
          ]
        }
      ],
      "source": [
        "from google.colab import drive\n",
        "drive.mount('/content/drive')"
      ]
    },
    {
      "cell_type": "code",
      "execution_count": null,
      "metadata": {
        "id": "z6aiYe3BFLog"
      },
      "outputs": [],
      "source": [
        "import pandas as pd"
      ]
    },
    {
      "cell_type": "code",
      "execution_count": null,
      "metadata": {
        "id": "JSObvexKF4ck"
      },
      "outputs": [],
      "source": [
        "df_train = pd.read_csv(\"train_18_10000.csv\")\n",
        "df_val = pd.read_csv(\"val_18_10000.csv\")\n",
        "df_test = pd.read_csv(\"test_18_10000.csv\")"
      ]
    },
    {
      "cell_type": "markdown",
      "metadata": {
        "id": "M29AXZHUGdrY"
      },
      "source": []
    },
    {
      "cell_type": "code",
      "execution_count": null,
      "metadata": {
        "id": "rOd58Q2KGex-"
      },
      "outputs": [],
      "source": [
        "import numpy as np\n",
        "import os\n",
        "import tensorflow as tf"
      ]
    },
    {
      "cell_type": "code",
      "execution_count": null,
      "metadata": {
        "colab": {
          "base_uri": "https://localhost:8080/"
        },
        "id": "-LTD3YwmF9zo",
        "outputId": "7c2f83e3-9bc1-402c-f577-0ed9a40d1734"
      },
      "outputs": [
        {
          "name": "stdout",
          "output_type": "stream",
          "text": [
            "Num GPUs Available:  1\n"
          ]
        }
      ],
      "source": [
        "print(\"Num GPUs Available: \", len(tf.config.experimental.list_physical_devices('GPU')))"
      ]
    },
    {
      "cell_type": "code",
      "execution_count": null,
      "metadata": {
        "id": "wf4ugRY4Glav"
      },
      "outputs": [],
      "source": [
        "train_labels = df_train['label'].values\n",
        "val_labels = df_val['label'].values\n",
        "test_labels = df_test['label'].values\n",
        "\n",
        "df_train = df_train.drop(df_train.columns[0], axis=1)\n",
        "df_val = df_val.drop(df_val.columns[0], axis=1)\n",
        "df_test = df_test.drop(df_test.columns[0], axis=1)\n",
        "\n",
        "\n",
        "df_train = df_train.astype('float32')\n",
        "df_val = df_val.astype('float32')\n",
        "df_test = df_test.astype('float32')"
      ]
    },
    {
      "cell_type": "code",
      "execution_count": null,
      "metadata": {
        "id": "mBXbODmiGpa0"
      },
      "outputs": [],
      "source": [
        "from sklearn.decomposition import PCA\n",
        "\n",
        "pca = PCA(n_components=100)\n",
        "train = pca.fit_transform(df_train)\n",
        "val = pca.transform(df_val)\n",
        "test = pca.transform(df_test)"
      ]
    },
    {
      "cell_type": "code",
      "execution_count": null,
      "metadata": {
        "id": "1N2PlAsLG6b2"
      },
      "outputs": [],
      "source": [
        "df_train.insert(0, 'label', train_labels)\n",
        "df_val.insert(0, 'label', val_labels)\n",
        "df_test.insert(0, 'label', test_labels)\n"
      ]
    },
    {
      "cell_type": "code",
      "execution_count": null,
      "metadata": {
        "id": "Uqfe60enG-Dl"
      },
      "outputs": [],
      "source": [
        "train_labels = np.expand_dims(train_labels, axis=1)\n",
        "val_labels = np.expand_dims(val_labels, axis=1)\n",
        "test_labels = np.expand_dims(test_labels, axis=1)\n",
        "\n",
        "train = np.concatenate((train, train_labels), axis=1)\n",
        "val = np.concatenate((val, val_labels), axis=1)\n",
        "test = np.concatenate((test, test_labels), axis=1)"
      ]
    },
    {
      "cell_type": "code",
      "execution_count": null,
      "metadata": {
        "id": "_Yu5XeT6Id_z"
      },
      "outputs": [],
      "source": [
        "traindf = pd.DataFrame(train)\n",
        "valdf = pd.DataFrame(val)\n",
        "testdf = pd.DataFrame(test)"
      ]
    },
    {
      "cell_type": "markdown",
      "metadata": {
        "id": "bEsXh480HfyG"
      },
      "source": []
    },
    {
      "cell_type": "code",
      "execution_count": null,
      "metadata": {
        "id": "Eor8YCOjHnJ5"
      },
      "outputs": [],
      "source": [
        "from keras.utils import to_categorical\n",
        "from sklearn.preprocessing import LabelEncoder\n",
        "from keras.models import Sequential\n",
        "from keras.layers import Dense, InputLayer\n",
        "\n",
        "label_encoder = LabelEncoder()\n",
        "\n",
        "dim = train.shape[1] -1\n",
        "\n",
        "#df_train['label_encoded'] = label_encoder.fit_transform(df_train['512'])\n",
        "#df_val['label_encoded'] = label_encoder.transform(df_val['512'])\n",
        "#df_test['label_encoded'] = label_encoder.transform(df_test['512'])\n",
        "\n",
        "traindf['label_encoded'] = label_encoder.fit_transform(traindf[dim])\n",
        "valdf['label_encoded'] = label_encoder.transform(valdf[dim])\n",
        "testdf['label_encoded'] = label_encoder.transform(testdf[dim])\n",
        "\n",
        "# One-hot encode the integer labels\n",
        "y_train = to_categorical(traindf['label_encoded'])\n",
        "y_val = to_categorical(valdf['label_encoded'])\n",
        "y_test = to_categorical(testdf['label_encoded'])\n",
        "\n",
        "num_classes = len(traindf['label_encoded'].unique())\n"
      ]
    },
    {
      "cell_type": "code",
      "execution_count": null,
      "metadata": {
        "id": "e6B4Xx35JBDI"
      },
      "outputs": [],
      "source": [
        "traindf = traindf.drop(columns=[dim])\n",
        "valdf = valdf.drop(columns=[dim])\n",
        "testdf = testdf.drop(columns=[dim])"
      ]
    },
    {
      "cell_type": "code",
      "execution_count": null,
      "metadata": {
        "id": "OnG1lH66IyFT"
      },
      "outputs": [],
      "source": [
        "df_train_1d = np.array(traindf.drop(\"label_encoded\", axis=1)).reshape(60416, 100, 1).astype('float32')\n",
        "df_val_1d= np.array(valdf.drop(\"label_encoded\", axis=1)).reshape(15104, 100, 1).astype('float32')\n",
        "df_test_1d = np.array(testdf.drop(\"label_encoded\", axis=1)).reshape(18881, 100, 1).astype('float32')\n",
        "\n"
      ]
    },
    {
      "cell_type": "code",
      "execution_count": null,
      "metadata": {
        "id": "abLm3ty0OxSY"
      },
      "outputs": [],
      "source": [
        "from tensorflow.keras.layers import Conv1D, MaxPooling1D, Flatten, Dense\n",
        "from tensorflow.keras.models import Sequential\n",
        "\n",
        "model = Sequential()\n",
        "\n",
        "# Add model layers\n",
        "model.add(Conv1D(64, kernel_size=3, activation='relu', input_shape=(df_train_1d.shape[1], 1)))\n",
        "model.add(Conv1D(32, kernel_size=3, activation='relu'))\n",
        "model.add(Flatten())\n",
        "model.add(Dense(num_classes, activation='softmax'))"
      ]
    },
    {
      "cell_type": "code",
      "execution_count": null,
      "metadata": {
        "id": "a6xI9J0CO1Ny"
      },
      "outputs": [],
      "source": [
        "model.compile(optimizer='adam', loss='binary_crossentropy', metrics=['accuracy'])"
      ]
    },
    {
      "cell_type": "code",
      "execution_count": null,
      "metadata": {
        "colab": {
          "base_uri": "https://localhost:8080/"
        },
        "id": "nyCGHWGXO3tD",
        "outputId": "5c306299-504a-4de7-af55-dec91bed6bbb"
      },
      "outputs": [
        {
          "name": "stdout",
          "output_type": "stream",
          "text": [
            "Epoch 1/10\n",
            "1888/1888 [==============================] - 12s 4ms/step - loss: 0.1177 - accuracy: 0.7215 - val_loss: 0.0770 - val_accuracy: 0.7811\n",
            "Epoch 2/10\n",
            "1888/1888 [==============================] - 8s 4ms/step - loss: 0.0752 - accuracy: 0.7853 - val_loss: 0.0740 - val_accuracy: 0.7891\n",
            "Epoch 3/10\n",
            "1888/1888 [==============================] - 9s 5ms/step - loss: 0.0708 - accuracy: 0.7978 - val_loss: 0.0713 - val_accuracy: 0.7938\n",
            "Epoch 4/10\n",
            "1888/1888 [==============================] - 8s 4ms/step - loss: 0.0672 - accuracy: 0.8081 - val_loss: 0.0704 - val_accuracy: 0.8007\n",
            "Epoch 5/10\n",
            "1888/1888 [==============================] - 9s 5ms/step - loss: 0.0643 - accuracy: 0.8163 - val_loss: 0.0696 - val_accuracy: 0.8018\n",
            "Epoch 6/10\n",
            "1888/1888 [==============================] - 8s 4ms/step - loss: 0.0623 - accuracy: 0.8223 - val_loss: 0.0698 - val_accuracy: 0.8053\n",
            "Epoch 7/10\n",
            "1888/1888 [==============================] - 9s 5ms/step - loss: 0.0604 - accuracy: 0.8286 - val_loss: 0.0686 - val_accuracy: 0.8021\n",
            "Epoch 8/10\n",
            "1888/1888 [==============================] - 9s 5ms/step - loss: 0.0586 - accuracy: 0.8356 - val_loss: 0.0687 - val_accuracy: 0.8055\n",
            "Epoch 9/10\n",
            "1888/1888 [==============================] - 8s 4ms/step - loss: 0.0574 - accuracy: 0.8389 - val_loss: 0.0694 - val_accuracy: 0.8043\n",
            "Epoch 10/10\n",
            "1888/1888 [==============================] - 9s 5ms/step - loss: 0.0565 - accuracy: 0.8413 - val_loss: 0.0685 - val_accuracy: 0.8059\n",
            "CNN training time: 89.52 seconds\n"
          ]
        }
      ],
      "source": [
        "import time\n",
        "start_time = time.time()\n",
        "model.fit(df_train_1d, y_train, validation_data=(df_val_1d, y_val), epochs=10)\n",
        "cnn_training_time = time.time() - start_time\n",
        "print(f\"CNN training time: {cnn_training_time:.2f} seconds\")"
      ]
    },
    {
      "cell_type": "code",
      "execution_count": null,
      "metadata": {
        "colab": {
          "base_uri": "https://localhost:8080/"
        },
        "id": "dhwfymmxO62o",
        "outputId": "53457cf3-c892-4d2b-f74e-21eb65fbb8f3"
      },
      "outputs": [
        {
          "name": "stdout",
          "output_type": "stream",
          "text": [
            "591/591 [==============================] - 2s 3ms/step - loss: 0.0687 - accuracy: 0.8051\n"
          ]
        },
        {
          "data": {
            "text/plain": [
              "[0.06868656724691391, 0.8050950765609741]"
            ]
          },
          "execution_count": 17,
          "metadata": {},
          "output_type": "execute_result"
        }
      ],
      "source": [
        "model.evaluate(df_test_1d, y_test)"
      ]
    }
  ],
  "metadata": {
    "accelerator": "GPU",
    "colab": {
      "gpuType": "T4",
      "provenance": []
    },
    "kernelspec": {
      "display_name": "Python 3",
      "name": "python3"
    },
    "language_info": {
      "name": "python"
    }
  },
  "nbformat": 4,
  "nbformat_minor": 0
}
